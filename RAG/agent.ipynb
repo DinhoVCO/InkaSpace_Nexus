{
 "cells": [
  {
   "cell_type": "code",
   "execution_count": 22,
   "id": "5a90f493",
   "metadata": {},
   "outputs": [
    {
     "name": "stderr",
     "output_type": "stream",
     "text": [
      "d:\\NASA\\NASA_Nexus\\.venv\\Lib\\site-packages\\pydantic\\main.py:253: UserWarning: Could not download mistral tokenizer from Huggingface for calculating batch sizes. Set a Huggingface token via the HF_TOKEN environment variable to download the real tokenizer. Falling back to a dummy tokenizer that uses `len()`.\n",
      "  validated_self = self.__pydantic_validator__.validate_python(data, self_instance=self)\n"
     ]
    }
   ],
   "source": [
    "# load_qdrant.py\n",
    "# Usage:\n",
    "#   pip install -U langchain-qdrant qdrant-client langchain-mistralai python-dotenv\n",
    "#   export MISTRAL_API_KEY=...\n",
    "#   python load_qdrant.py <qdrant_dir> <collection_name> [\"your query\"] [k]\n",
    "#\n",
    "# Example:\n",
    "#   python load_qdrant.py stores/qdrant_db rg_chunks \"Benefits from 'Extract Method'\" 5\n",
    "\n",
    "import sys\n",
    "from dotenv import load_dotenv\n",
    "from qdrant_client import QdrantClient\n",
    "from langchain_mistralai import MistralAIEmbeddings\n",
    "from langchain_qdrant import QdrantVectorStore\n",
    "import os\n",
    "\n",
    "load_dotenv()\n",
    "QDRANT_URL = os.getenv(\"QDRANT_URL\")\n",
    "QDRANT_API_KEY = os.getenv(\"QDRANT_API_KEY\")\n",
    "\n",
    "\n",
    "\n",
    "# qdrant_dir = sys.argv[1]\n",
    "collection_name = \"test\"\n",
    "\n",
    "\n",
    "# Open local (embedded) Qdrant DB folder\n",
    "client = QdrantClient(\n",
    "        url=QDRANT_URL, \n",
    "        api_key=QDRANT_API_KEY,\n",
    "    )\n",
    "\n",
    "# Same embedding model used when building the collection\n",
    "embeddings = MistralAIEmbeddings(model=\"mistral-embed\")\n",
    "\n",
    "# Create a LangChain vector store bound to the existing collection\n",
    "store = QdrantVectorStore(\n",
    "    client=client,\n",
    "    collection_name=collection_name,\n",
    "    embedding=embeddings,\n",
    ")\n",
    "\n",
    "\n"
   ]
  },
  {
   "cell_type": "code",
   "execution_count": null,
   "id": "0ef84f7b",
   "metadata": {},
   "outputs": [],
   "source": [
    "import bs4\n",
    "from langchain import hub\n",
    "# from langchain_community.document_loaders import WebBaseLoader\n",
    "from langchain_core.documents import Document\n",
    "from langchain_text_splitters import RecursiveCharacterTextSplitter\n",
    "from langgraph.graph import START, StateGraph\n",
    "from typing_extensions import List, TypedDict\n",
    "from langchain.chat_models import init_chat_model\n",
    "\n",
    "prompt = hub.pull(\"rlm/rag-prompt\")\n",
    "llm = init_chat_model(\"open-mixtral-8x7b\", model_provider=\"mistralai\")\n",
    "\n",
    "# Define state for application\n",
    "class State(TypedDict):\n",
    "    question: str\n",
    "    context: List[Document]\n",
    "    answer: str\n",
    "\n",
    "\n",
    "# Define application steps\n",
    "def retrieve(state: State):\n",
    "    retrieved_docs = store.similarity_search(state[\"question\"])\n",
    "    return {\"context\": retrieved_docs}\n",
    "\n",
    "\n",
    "def generate(state: State):\n",
    "    docs_content = \"\\n\\n\".join(doc.page_content for doc in state[\"context\"])\n",
    "    messages = prompt.invoke({\"question\": state[\"question\"], \"context\": docs_content})\n",
    "    response = llm.invoke(messages)\n",
    "    #=================================\n",
    "    assert len(messages.to_messages()) == 1\n",
    "    print(messages.to_messages()[0].content)\n",
    "    #=================================\n",
    "    return {\"answer\": response.content}\n",
    "\n",
    "\n",
    "# Compile application and test\n",
    "graph_builder = StateGraph(State).add_sequence([retrieve, generate])\n",
    "graph_builder.add_edge(START, \"retrieve\")\n",
    "graph = graph_builder.compile()"
   ]
  },
  {
   "cell_type": "code",
   "execution_count": 23,
   "id": "cbb4690a",
   "metadata": {},
   "outputs": [
    {
     "data": {
      "image/png": "[encoded data removed]",
      "text/plain": [
       "<IPython.core.display.Image object>"
      ]
     },
     "metadata": {},
     "output_type": "display_data"
    }
   ],
   "source": [
    "from IPython.display import Image, display\n",
    "\n",
    "display(Image(graph.get_graph().draw_mermaid_png()))"
   ]
  },
  {
   "cell_type": "code",
   "execution_count": 21,
   "id": "a2abec76",
   "metadata": {},
   "outputs": [
    {
     "name": "stdout",
     "output_type": "stream",
     "text": [
      "You are an assistant for question-answering tasks. Use the following pieces of retrieved context to answer the question. If you don't know the answer, just say that you don't know. Use three sentences maximum and keep the answer concise.\n",
      "Question: What advantages does the BioFlux-based method offer for studying biofilms compared to traditional static microtiter plate methods? \n",
      "Context: The plate reader-based BioFlux viability screening method relied on the use of bacterial strains expressing GFP; for non-GFP-expressing bacteria another method, such as LIVE/DEAD *Bac*Light staining, must be used. However, the *Bac*Light viability method, as reported previously for planktonic cells ([3](#r3), [24](#r24)) and confirmed here for biofilms, is limited to treatments causing a relatively higher level of killing. This finding appears to limit use of the BioFlux to bacteria capable of expressing GFP. However, there are other possibilities. For example, the LIVE/DEAD stain is accurate for determination of viability where the level of killing is high, which is often the goal of HTP screening; another possibility is to use a fluorogenic substrate, such as 4-methylumbellyferyl-β-d-glucuronide ([28](#r28)), to measure biofilm metabolic activity. The BioFlux device is also likely to be useful in HTP screening of other biofilm parameters. One example is investigating expression of a fluorescently tagged protein under different conditions, such as fluid shear. Another example is determination of the formation or elimination of the extracellular matrix, which can be done by using poly-*N*-acetylglucosamine-binding wheat germ agglutinin-Alexa Fluor 488 conjugate ([5](#r5)).\n",
      "\n",
      "## Acknowledgments\n",
      "\n",
      "This work was supported by NASA grant NNH08ZTT003N to A.M., by NIH/NIGMS grant F32-GM077827 to M.R.B., and by NIH/NIGMS grant 1R43GM083384-01A1 to C.I.-Z.\n",
      "\n",
      "## Footnotes\n",
      "\n",
      "▿\n",
      "\n",
      "Published ahead of print on 30 April 2010.\n",
      "\n",
      "## REFERENCES\n",
      "\n",
      "The plate reader-based BioFlux viability screening method relied on the use of bacterial strains expressing GFP; for non-GFP-expressing bacteria another method, such as LIVE/DEAD *Bac*Light staining, must be used. However, the *Bac*Light viability method, as reported previously for planktonic cells ([3](#r3), [24](#r24)) and confirmed here for biofilms, is limited to treatments causing a relatively higher level of killing. This finding appears to limit use of the BioFlux to bacteria capable of expressing GFP. However, there are other possibilities. For example, the LIVE/DEAD stain is accurate for determination of viability where the level of killing is high, which is often the goal of HTP screening; another possibility is to use a fluorogenic substrate, such as 4-methylumbellyferyl-β-d-glucuronide ([28](#r28)), to measure biofilm metabolic activity. The BioFlux device is also likely to be useful in HTP screening of other biofilm parameters. One example is investigating expression of a fluorescently tagged protein under different conditions, such as fluid shear. Another example is determination of the formation or elimination of the extracellular matrix, which can be done by using poly-*N*-acetylglucosamine-binding wheat germ agglutinin-Alexa Fluor 488 conjugate ([5](#r5)).\n",
      "\n",
      "## Acknowledgments\n",
      "\n",
      "This work was supported by NASA grant NNH08ZTT003N to A.M., by NIH/NIGMS grant F32-GM077827 to M.R.B., and by NIH/NIGMS grant 1R43GM083384-01A1 to C.I.-Z.\n",
      "\n",
      "## Footnotes\n",
      "\n",
      "▿\n",
      "\n",
      "Published ahead of print on 30 April 2010.\n",
      "\n",
      "## REFERENCES\n",
      "\n",
      "We used the GFP-PI method because Lehtinen et al. ([24](#r24)) showed that it was superior to the *Bac*Light method for measuring the effects of low concentrations of antimicrobial agents on the viability of planktonic bacteria. The limitation of the *Bac*Light method at low concentrations of antimicrobials is apparently due to increased penetration of SYTO9 but not PI, which falsely increases the green fluorescence/red fluorescence ratio used to determine viability ([3](#r3), [24](#r24)). We assumed that this limitation was applicable to bacterial biofilms. The success of the BioFlux device for HTP screening of flow biofilm viability, as reported above, enabled us to test this assumption directly. We cultivated PAO1 biofilms not expressing GFP in the BioFlux apparatus, treated them with gentamicin, stained them with the two *Bac*Light stains (SYTO9 and PI), and used the ratio of green fluorescence to red fluorescence to calculate the viability. Compared to the GFP-PI fluorescence results, treatment with SYTO9 resulted in much higher levels of green fluorescence for the two low concentrations (0.01 and 0.1 μg/ml), resulting in a false increase in viability (e.g., viability greater than 100% compared to untreated controls). However, at higher concentrations of the antibiotic the two methods gave comparable results (Fig. [5](#f5)). Similar results were obtained with tobramycin, enrofloxacin, and ciprofloxacin; for example, with 0.01 μg/ml of each antibiotic, the levels of viability determined by the *Bac*Light light method were 166%, 117%, and 70% of the untreated control values, respectively, while the levels of viability determined by the GFP-PI method were 77%, 44%, and 47% of the untreated control values, respectively (Fig. [4](#f4)). Thus, the *Bac*Light method gives an erroneous picture of viability after exposure to low antimicrobial agent concentrations not only for planktonic cells but also for biofilms.\n",
      "\n",
      "## DISCUSSION\n",
      "\n",
      "Flow biofilms are commonly cultivated in flow cells, and their viability is determined by quantification of microscopic fluorescent images or by colony counting, both of which are time-consuming; colony counting is particularly difficult because flow biofilms cannot be easily removed from the flow cells. HTP screening of viability by this method is not feasible not only because of these constraints but also because it would require the use of a prohibitively large number of flow cells. We used a microfluidic device, the BioFlux device, which accurately controls fluid flow and permits simultaneous growth of multiple biofilms with a large range of precisely controlled flow rates. Here we describe a method for rapidly determining biofilm viability simply by measuring fluorescence with a plate reader, eliminating the need for the labor-intensive analyses mentioned above. The results show that measurement of GFP-PI fluorescence with a plate reader reliably reflects biofilm viability as verified by plate counting (Fig. [3](#f3)), as well as viability determined by quantification of fluorescence microscope images (Fig. [4](#f4)). Thus, the BioFlux device used in conjunction with the GFP-PI viability assessment method is an excellent method for initial HTP screening of flow biofilms; this was verified by successful use of this method for HTP screening of PAO1 biofilms for sensitivity to a number of antimicrobials.\n",
      "\n",
      "We used the GFP-PI method because Lehtinen et al. ([24](#r24)) showed that it was superior to the *Bac*Light method for measuring the effects of low concentrations of antimicrobial agents on the viability of planktonic bacteria. The limitation of the *Bac*Light method at low concentrations of antimicrobials is apparently due to increased penetration of SYTO9 but not PI, which falsely increases the green fluorescence/red fluorescence ratio used to determine viability ([3](#r3), [24](#r24)). We assumed that this limitation was applicable to bacterial biofilms. The success of the BioFlux device for HTP screening of flow biofilm viability, as reported above, enabled us to test this assumption directly. We cultivated PAO1 biofilms not expressing GFP in the BioFlux apparatus, treated them with gentamicin, stained them with the two *Bac*Light stains (SYTO9 and PI), and used the ratio of green fluorescence to red fluorescence to calculate the viability. Compared to the GFP-PI fluorescence results, treatment with SYTO9 resulted in much higher levels of green fluorescence for the two low concentrations (0.01 and 0.1 μg/ml), resulting in a false increase in viability (e.g., viability greater than 100% compared to untreated controls). However, at higher concentrations of the antibiotic the two methods gave comparable results (Fig. [5](#f5)). Similar results were obtained with tobramycin, enrofloxacin, and ciprofloxacin; for example, with 0.01 μg/ml of each antibiotic, the levels of viability determined by the *Bac*Light light method were 166%, 117%, and 70% of the untreated control values, respectively, while the levels of viability determined by the GFP-PI method were 77%, 44%, and 47% of the untreated control values, respectively (Fig. [4](#f4)). Thus, the *Bac*Light method gives an erroneous picture of viability after exposure to low antimicrobial agent concentrations not only for planktonic cells but also for biofilms.\n",
      "\n",
      "## DISCUSSION\n",
      "\n",
      "Flow biofilms are commonly cultivated in flow cells, and their viability is determined by quantification of microscopic fluorescent images or by colony counting, both of which are time-consuming; colony counting is particularly difficult because flow biofilms cannot be easily removed from the flow cells. HTP screening of viability by this method is not feasible not only because of these constraints but also because it would require the use of a prohibitively large number of flow cells. We used a microfluidic device, the BioFlux device, which accurately controls fluid flow and permits simultaneous growth of multiple biofilms with a large range of precisely controlled flow rates. Here we describe a method for rapidly determining biofilm viability simply by measuring fluorescence with a plate reader, eliminating the need for the labor-intensive analyses mentioned above. The results show that measurement of GFP-PI fluorescence with a plate reader reliably reflects biofilm viability as verified by plate counting (Fig. [3](#f3)), as well as viability determined by quantification of fluorescence microscope images (Fig. [4](#f4)). Thus, the BioFlux device used in conjunction with the GFP-PI viability assessment method is an excellent method for initial HTP screening of flow biofilms; this was verified by successful use of this method for HTP screening of PAO1 biofilms for sensitivity to a number of antimicrobials. \n",
      "Answer:\n",
      "The BioFlux-based method offers several advantages for studying biofilms compared to traditional static microtiter plate methods. It allows for High-Throughput (HTP) screening of biofilm parameters, including biofilm metabolic activity and the formation or elimination of the extracellular matrix. It also enables the investigation of expression of fluorescently tagged proteins under different conditions, such as fluid shear. Furthermore, the BioFlux device provides a more accurate picture of viability after exposure to low antimicrobial agent concentrations compared to the BacLight method.\n"
     ]
    }
   ],
   "source": [
    "response = graph.invoke({\"question\": \"What advantages does the BioFlux-based method offer for studying biofilms compared to traditional static microtiter plate methods?\"})\n",
    "print(response[\"answer\"])"
   ]
  }
 ],
 "metadata": {
  "kernelspec": {
   "display_name": ".venv (3.11.9)",
   "language": "python",
   "name": "python3"
  },
  "language_info": {
   "codemirror_mode": {
    "name": "ipython",
    "version": 3
   },
   "file_extension": ".py",
   "mimetype": "text/x-python",
   "name": "python",
   "nbconvert_exporter": "python",
   "pygments_lexer": "ipython3",
   "version": "3.11.9"
  }
 },
 "nbformat": 4,
 "nbformat_minor": 5
}
