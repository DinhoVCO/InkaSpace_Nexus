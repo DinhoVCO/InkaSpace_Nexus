{
 "cells": [
  {
   "cell_type": "code",
   "execution_count": 11,
   "id": "a0c1239b",
   "metadata": {},
   "outputs": [],
   "source": [
    "from dotenv import load_dotenv\n",
    "from qdrant_client import QdrantClient\n",
    "from qdrant_client.models import Distance, VectorParams\n",
    "from langchain_mistralai import MistralAIEmbeddings\n",
    "from langchain_text_splitters import RecursiveCharacterTextSplitter\n",
    "import os"
   ]
  },
  {
   "cell_type": "code",
   "execution_count": 3,
   "id": "8a23a333",
   "metadata": {},
   "outputs": [],
   "source": [
    "load_dotenv()\n",
    "QDRANT_URL = os.getenv(\"QDRANT_URL\")\n",
    "QDRANT_API_KEY = os.getenv(\"QDRANT_API_KEY\")"
   ]
  },
  {
   "cell_type": "code",
   "execution_count": 8,
   "id": "64837678",
   "metadata": {},
   "outputs": [
    {
     "name": "stdout",
     "output_type": "stream",
     "text": [
      "collections=[]\n"
     ]
    }
   ],
   "source": [
    "qdrant_client = QdrantClient(\n",
    "    url=QDRANT_URL, \n",
    "    api_key=QDRANT_API_KEY,\n",
    ")\n",
    "\n",
    "print(qdrant_client.get_collections())"
   ]
  },
  {
   "cell_type": "code",
   "execution_count": 9,
   "id": "597cf4ae",
   "metadata": {},
   "outputs": [
    {
     "name": "stderr",
     "output_type": "stream",
     "text": [
      "c:\\Users\\dinho\\Desktop\\nasa\\nasa_env\\Lib\\site-packages\\tqdm\\auto.py:21: TqdmWarning: IProgress not found. Please update jupyter and ipywidgets. See https://ipywidgets.readthedocs.io/en/stable/user_install.html\n",
      "  from .autonotebook import tqdm as notebook_tqdm\n",
      "c:\\Users\\dinho\\Desktop\\nasa\\nasa_env\\Lib\\site-packages\\pydantic\\main.py:253: UserWarning: Could not download mistral tokenizer from Huggingface for calculating batch sizes. Set a Huggingface token via the HF_TOKEN environment variable to download the real tokenizer. Falling back to a dummy tokenizer that uses `len()`.\n",
      "  validated_self = self.__pydantic_validator__.validate_python(data, self_instance=self)\n"
     ]
    }
   ],
   "source": [
    "embeddings = MistralAIEmbeddings(model=\"mistral-embed\")\n",
    "vector_size = len(embeddings.embed_query(\"sample text\"))\n",
    "collection_articles = \"nasa_articles\"\n",
    "try:\n",
    "    qdrant_client.get_collection(collection_name=collection_articles)\n",
    "except Exception:\n",
    "    qdrant_client.create_collection(\n",
    "        collection_name=collection_articles,\n",
    "        vectors_config=VectorParams(size=vector_size, distance=Distance.COSINE),\n",
    "    )"
   ]
  },
  {
   "cell_type": "code",
   "execution_count": 10,
   "id": "020f9ddd",
   "metadata": {},
   "outputs": [
    {
     "name": "stdout",
     "output_type": "stream",
     "text": [
      "collections=[CollectionDescription(name='nasa_articles')]\n"
     ]
    }
   ],
   "source": [
    "print(qdrant_client.get_collections())"
   ]
  },
  {
   "cell_type": "code",
   "execution_count": 28,
   "id": "bc392037",
   "metadata": {},
   "outputs": [],
   "source": [
    "text_splitter = RecursiveCharacterTextSplitter.from_tiktoken_encoder(\n",
    "    model_name=\"gpt-4\",\n",
    "    chunk_size=500,\n",
    "    chunk_overlap=200,\n",
    ")"
   ]
  },
  {
   "cell_type": "code",
   "execution_count": 15,
   "id": "2bb12afe",
   "metadata": {},
   "outputs": [],
   "source": [
    "from pathlib import Path\n",
    "\n",
    "ruta = Path(\"md_out/www.ncbi.nlm.nih.gov/pmc/articles/PMC2824534/index.md\")\n",
    "\n",
    "with ruta.open(\"r\", encoding=\"utf-8\") as f:\n",
    "    contenido_md = f.read()\n"
   ]
  },
  {
   "cell_type": "code",
   "execution_count": 16,
   "id": "e89f3a61",
   "metadata": {},
   "outputs": [
    {
     "data": {
      "text/plain": [
       "'Biomaterials\\n\\n. Author manuscript; available in PMC: 2011 Mar 1.\\n\\n*Published in final edited form as:* Biomaterials. 2010 Jan 19;31(8):2193–2200. doi: [10.1016/j.biomaterials.2009.11.092](https://doi.org/10.1016/j.biomaterials.2009.11.092)\\n\\n# *In vitro* generation of mechanically functional cartilage grafts based on adult human stem cells and 3D-woven poly(ε-caprolactone) scaffolds\\n\\n[PK Valonen](https://pubmed.ncbi.nlm.nih.gov/?term=%22Valonen%20PK%22%5BAuthor%5D)\\n\\n### PK Valonen\\n\\n1Harvard-MIT D'"
      ]
     },
     "execution_count": 16,
     "metadata": {},
     "output_type": "execute_result"
    }
   ],
   "source": [
    "contenido_md[:500]"
   ]
  },
  {
   "cell_type": "code",
   "execution_count": 23,
   "id": "0017d2f3",
   "metadata": {},
   "outputs": [],
   "source": [
    "texts = text_splitter.split_text(contenido_md)"
   ]
  },
  {
   "cell_type": "code",
   "execution_count": 24,
   "id": "f831776d",
   "metadata": {},
   "outputs": [
    {
     "data": {
      "text/plain": [
       "9"
      ]
     },
     "execution_count": 24,
     "metadata": {},
     "output_type": "execute_result"
    }
   ],
   "source": [
    "len(texts)"
   ]
  },
  {
   "cell_type": "code",
   "execution_count": 26,
   "id": "6ba647bf",
   "metadata": {},
   "outputs": [
    {
     "name": "stdout",
     "output_type": "stream",
     "text": [
      "Biomaterials\n",
      "\n",
      ". Author manuscript; available in PMC: 2011 Mar 1.\n",
      "\n",
      "*Published in final edited form as:* Biomaterials. 2010 Jan 19;31(8):2193–2200. doi: [10.1016/j.biomaterials.2009.11.092](https://doi.org/10.1016/j.biomaterials.2009.11.092)\n",
      "\n",
      "# *In vitro* generation of mechanically functional cartilage grafts based on adult human stem cells and 3D-woven poly(ε-caprolactone) scaffolds\n",
      "\n",
      "[PK Valonen](https://pubmed.ncbi.nlm.nih.gov/?term=%22Valonen%20PK%22%5BAuthor%5D)\n",
      "\n",
      "### PK Valonen\n",
      "\n",
      "1Harvard-MIT Division of Health Sciences and Technology, Massachusetts Institute of Technology, Cambridge, MA, 02139 USA\n",
      "\n",
      "Find articles by [PK Valonen](https://pubmed.ncbi.nlm.nih.gov/?term=%22Valonen%20PK%22%5BAuthor%5D)\n",
      "\n",
      "1, [FT Moutos](https://pubmed.ncbi.nlm.nih.gov/?term=%22Moutos%20FT%22%5BAuthor%5D)\n",
      "\n",
      "### FT Moutos\n",
      "\n",
      "2Departments of Surgery, Biomedical Engineering, and Mechanical Engineering & Materials Science, Duke University Medical Center, Durham, NC 27710 USA\n",
      "\n",
      "Find articles by [FT Moutos](https://pubmed.ncbi.nlm.nih.gov/?term=%22Moutos%20FT%22%5BAuthor%5D)\n",
      "\n",
      "2, [A Kusanagi](https://pubmed.ncbi.nlm.nih.gov/?term=%22Kusanagi%20A%22%5BAuthor%5D)\n",
      "\n",
      "### A Kusanagi\n",
      "\n",
      "3Harvard-MIT Division of Health Sciences and Technology, Massachusetts Institute of Technology, Cambridge, MA, 02139 USA\n",
      "\n",
      "Find articles by [A Kusanagi](https://pubmed.ncbi.nlm.nih.gov/?term=%22Kusanagi%20A%22%5BAuthor%5D)\n",
      "\n",
      "3, [M Moretti](https://pubmed.ncbi.nlm.nih.gov/?term=%22Moretti%20M%22%5BAuthor%5D)\n",
      "\n",
      "### M Moretti\n",
      "\n",
      "4I.R.C.C.S. Galeazzi Orthopedic Institute and MIT Research Affiliate, Via R. Galeazzi 4, Milan 20161, Italy\n",
      "\n",
      "Find articles by [M Moretti](https://pubmed.ncbi.nlm.nih.gov/?term=%22Moretti%20M%22%5BAuthor%5D)\n",
      "\n",
      "4, [BO Diekman](https://pubmed.ncbi.nlm.nih.gov/?term=%22Diekman%20BO%22%5BAuthor%5D)\n",
      "\n",
      "### BO Diekman\n",
      "\n",
      "5Departments of Surgery, Biomedical Engineering, and Mechanical Engineering & Materials Science, Duke University Medical Center, Durham, NC 27710 USA\n",
      "\n",
      "Find articles by [BO Diekman](https://pubmed.ncbi.nlm.nih.gov/?term=%22Diekman%20BO%22%5BAuthor%5D)\n",
      "\n",
      "5, [JF Welter](https://pubmed.ncbi.nlm.nih.gov/?term=%22Welter%20JF%22%5BAuthor%5D)\n",
      "\n",
      "### JF Welter\n",
      "\n",
      "6Skeletal Research Center, Department of Biology, Case Western Reserve University, Cleveland, OH, 44106 USA\n",
      "\n",
      "Find articles by [JF Welter](https://pubmed.ncbi.nlm.nih.gov/?term=%22Welter%20JF%22%5BAuthor%5D)\n",
      "\n",
      "6, [AI Caplan](https://pubmed.ncbi.nlm.nih.gov/?term=%22Caplan%20AI%22%5BAuthor%5D)\n",
      "\n",
      "### AI Caplan\n",
      "\n",
      "7Skeletal Research Center, Department of Biology, Case Western Reserve University, Cleveland, OH, 44106 USA\n",
      "\n",
      "Find articles by [AI Caplan](https://pubmed.ncbi.nlm.nih.gov/?term=%22Caplan%20AI%22%5BAuthor%5D)\n",
      "\n",
      "7, [F Guilak](https://pubmed.ncbi.nlm.nih.gov/?term=%22Guilak%20F%22%5BAuthor%5D)\n",
      "\n",
      "### F Guilak\n",
      "\n",
      "8Departments of Surgery, Biomedical Engineering, and Mechanical Engineering & Materials Science, Duke University Medical Center, Durham, NC 27710 USA\n",
      "\n",
      "Find articles by [F Guilak](https://pubmed.ncbi.nlm.nih.gov/?term=%22Guilak%20F%22%5BAuthor%5D)\n",
      "\n",
      "8, [LE Freed](https://pubmed.ncbi.nlm.nih.gov/?term=%22Freed%20LE%22%5BAuthor%5D)\n",
      "\n",
      "### LE Freed\n",
      "\n",
      "9Biomedical Engineering Group, C.S. Draper Laboratory and MIT-Affiliated Research Scientist, 555 Technology Square-Mail Stop 32, Cambridge, MA 02139-4307 USA. Tel: (617) 258-4234; Fax: 617-258-3858; Lfreed@draper.com\n",
      "\n",
      "Find articles by [LE Freed](https://pubmed.ncbi.nlm.nih.gov/?term=%22Freed%20LE%22%5BAuthor%5D)\n",
      "\n",
      "9,✉\n",
      "\n",
      "* Author information\n",
      "* Article notes\n",
      "* Copyright and License information\n",
      "\n",
      "1Harvard-MIT Division of Health Sciences and Technology, Massachusetts Institute of Technology, Cambridge, MA, 02139 USA\n",
      "\n",
      "2Departments of Surgery, Biomedical Engineering, and Mechanical Engineering & Materials Science, Duke University Medical Center, Durham, NC 27710 USA\n",
      "\n",
      "3Harvard-MIT Division of Health Sciences and Technology, Massachusetts Institute of Technology, Cambridge, MA, 02139 USA\n",
      "\n",
      "4I.R.C.C.S. Galeazzi Orthopedic Institute and MIT Research Affiliate, Via R. Galeazzi 4, Milan 20161, Italy\n",
      "\n",
      "5Departments of Surgery, Biomedical Engineering, and Mechanical Engineering & Materials Science, Duke University Medical Center, Durham, NC 27710 USA\n",
      "\n",
      "6Skeletal Research Center, Department of Biology, Case Western Reserve University, Cleveland, OH, 44106 USA\n",
      "\n",
      "7Skeletal Research Center, Department of Biology, Case Western Reserve University, Cleveland, OH, 44106 USA\n",
      "\n",
      "8Departments of Surgery, Biomedical Engineering, and Mechanical Engineering & Materials Science, Duke University Medical Center, Durham, NC 27710 USA\n",
      "\n",
      "9Biomedical Engineering Group, C.S. Draper Laboratory and MIT-Affiliated Research Scientist, 555 Technology Square-Mail Stop 32, Cambridge, MA 02139-4307 USA. Tel: (617) 258-4234; Fax: 617-258-3858; Lfreed@draper.com\n",
      "\n",
      "✉\n",
      "\n",
      "Corresponding author.\n",
      "\n",
      "Issue date 2010 Mar.\n",
      "\n",
      "© 2009 Elsevier Ltd. All rights reserved.\n",
      "\n",
      "[PMC Copyright notice](/about/copyright/)\n",
      "\n",
      "PMCID: PMC2824534  NIHMSID: NIHMS163978  PMID: [20034665](https://pubmed.ncbi.nlm.nih.gov/20034665/)\n",
      "\n",
      "The publisher's version of this article is available at [Biomaterials](https://doi.org/10.1016/j.biomaterials.2009.11.092)\n",
      "\n",
      "## Abstract\n",
      "\n",
      "Three-dimensionally woven poly(ε-caprolactone)(PCL) scaffolds were combined with adult human mesenchymal stem cells (hMSC) to engineer mechanically functional cartilage constructs *in vitro*. The specific objectives were to: (i) produce PCL scaffolds with cartilage-like mechanical properties, (ii) demonstrate that hMSCs formed cartilage after 21-days of culture on PCL scaffolds, and (iii) study effects of scaffold structure (loosely vs. tightly woven), culture vessel (static dish vs. oscillating bioreactor), and medium composition (chondrogenic additives with or without serum). Aggregate moduli of 21-day constructs approached normal articular cartilage for tightly woven PCL cultured in bioreactors, were lower for tightly woven PCL cultured statically, and lowest for loosely woven PCL cultured statically (*p*<0.05). Construct DNA, total collagen, and glyocosaminoglycans (GAG) increased in a manner dependent on time, culture vessel, and medium composition. Chondrogenesis was verified histologically by rounded cells within a hyaline-like matrix that immunostained for collagen type II but not type I. Bioreactors yielded constructs with higher collagen content (*p*<0.05) and more homogenous matrix than static controls. Chondrogenic additives yielded constructs with higher GAG (*p*<0.05) and earlier expression of collagen II mRNA if serum was not present in medium. These results show feasibility of functional cartilage tissue engineering from hMSC and 3D woven PCL scaffolds.\n",
      "\n",
      "**Keywords:** Cartilage repair, stem cell, bioreactor, biomechanics, growth factors\n",
      "\n",
      "## INTRODUCTION\n",
      "\n",
      "Degenerative joint disease affects twenty million adults with an economic burden of over $40 billion per year in the US[[1](#R1)]. Once damaged, adult human articular cartilage has a limited capacity for intrinsic repair[[2](#R2)] and hence injuries can lead to progressive damage, joint degeneration, pain, and disability. Cell-based repair of small cartilage defects in the knee joint was first demonstrated clinically fifteen years ago[[3](#R3)]. Many cartilage tissue engineering studies use chondrocytes as the cell source[[4](#R4),[5](#R5)], however this approach is challenged by limited supply of chondrocytes, their limited regenerative potential due to age, disease, de-differentiation during *in vitro* expansion, and the morbidity caused by chondrocyte harvest[[6](#R6)]. Therefore, other studies use mesenchymal stem cells (MSC) as the cell source[[7](#R7),[8](#R8)], as these stem cells can be safely harvested by marrow biopsy, readily expanded *in vitro*, and selectively differentiated into chondrocytes[[9](#R9)].\n",
      "\n",
      "Clinical translation of tissue engineered cartilage is currently limited by inadequate construct structure, mechanical function, and integration[[2](#R2),[10](#R10)] Currently, most tissue engineered constructs for articular cartilage repair possess cartilage-mimetic material properties only after long-term (*e.g.*, 1 to 6 month) *in vitro* culture[[5](#R5),[11](#R11),[12](#R12)]. This lack of early construct mechanical function implies a need for new tissue engineering technologies such as scaffolds and bioreactors[[13](#R13),[14](#R14)]. For example, the stiffness and strength of previously used scaffolds were several orders of magnitude below normal articular cartilage, particularly in tension[[12](#R12),[15](#R15),[16](#R16)]. Likewise, mechanical properties of engineered cartilage produced using these scaffolds and hMSC were at least one order of magnitude below values reported for normal cartilage despite prolonged *in vitro* culture[[17](#R17),[18](#R18)].\n",
      "\n",
      "The goal of the present study was to produce mechanically functional tissue engineered cartilage from adult hMSC and three-dimensionally (3D) woven PCL scaffolds in 21 days *in vitro*. Effects of (i) scaffold structure (loosely *vs.* tightly woven PCL), (ii) culture vessel (static dish *vs.* oscillating bioreactor) and (iii) medium composition (chondrogenic additives with or without serum) on construct mechanical, biochemical, and molecular properties were quantified. A 3D weaving method[[19](#R19)] was applied to multi-filament PCL yarn to create scaffolds with cartilage-mimetic mechanical properties. The PCL was selected because it is a FDA-approved, biocompatible material[[20](#R20),[21](#R21)] that supports chondrogenesis[[22](#R22)] and degrades slowly (*i.e.* less than 5% degradation at 2 years, as measured by mass loss) into by-products that are entirely cleared from the body[[23](#R23),[24](#R24)].\n",
      "\n",
      "The 3D woven PCL scaffolds were seeded with hMSC mixed with Matrigel® such that gel entrapment enhanced cell seeding efficiency[[25](#R25)] and also helped maintain spherical cell morphology for promotion of chondrogenesis[[26](#R26)]. The hMSC-PCL constructs were cultured either in static dishes or in an oscillatory bioreactor that provided bi-directional percolation of culture medium directly through the construct[[27](#R27)]. Bioreactors were studied because these devices are known to enable functional tissue engineering due to combined effects of enhanced mass transport and mechanotransduction[[14](#R14),[28](#R28)–[34](#R34)]. Bi-directional rather than uni-directional perfusion was selected because the latter yielded different conditions at opposing construct upper and lower surfaces resulting in spatial concentration gradients and inhomogeneous tissue development[[35](#R35),[36](#R36)].\n",
      "\n",
      "Three different culture media were tested as follows. Differentiation medium 1 (DM1) containing serum and chondrogenic additives (TGF-β, ITS+ Premix, dexamethasone, ascorbic acid, proline, and non-essential amino acids) was selected based on our previous work[[8](#R8),[17](#R17),[37](#R37)]. Differentiation medium 2 (DM2) containing chondrogenic additives but not serum was selected based on reports that serum inhibited chondrogenesis by synoviocytes[[38](#R38),[39](#R39)] and caused hypertrophy of chondrocytes[[40](#R40)]. Control medium (CM) without chondrogenic additives was tested to assess spontaneous chondrogenic differentiation in hMSC-PCL constructs.\n",
      "\n",
      "## MATERIALS AND METHODS\n",
      "\n",
      "All tissue culture reagents were from Invitrogen (Carlsbad, CA) unless otherwise specified.\n",
      "\n",
      "### Poly(ε-caprolactone) (PCL) scaffolds\n",
      "\n",
      "A custom-built loom[[19](#R19)] was used to weave PCL multi-filament yarns (24 µm diameter per filament; 44 filaments/yarn, Grilon KE-60, EMS/Griltech, Domat, Switzerland) in three orthogonal directions (x-warp, y-weft, and a vertical z-direction) ([Figure 1A](#F1)). A loosely woven scaffold was made with widely spaced warp yarns (8 yarns/cm), closely spaced weft yarns (20 yarns/cm) and two z-layers between each warp yarn ([Figure 1B](#F1)). A tightly woven scaffold was made with closely spaced warp and weft yarns (24 and 20 yarns/cm, respectively) and one z-layer between each warp yarn. ([Figure 1C](#F1)). These weaving parameters, in conjunction with fiber size and the density of PCL (1.145 g/cm3)[[41](#R41)], determined scaffold porosity and pore dimensions. The loosely woven scaffold had porosity of 68 ± 0.3%, approximate pore dimensions of 850 µm ×1100 µm × 100 µm, and approximate thickness of 0.9 mm. The tightly woven scaffold had porosity of 61 ± 0.2 %, approximate pore dimensions of 330 µm × 260 µm × 100 µm and approximate thickness of 1.3 mm. Prior to cell culture, scaffolds were immersed in 4N NaOH for 18 h, thoroughly rinsed in de-ionized water, dried, ethylene oxide sterilized, and punched into 7 mm diameter discs using dermal punches (Acuderm Inc., Ft. Lauderdale, FL).\n",
      "\n",
      "#### Figure 1.\n",
      "\n",
      "[![Figure 1](https://cdn.ncbi.nlm.nih.gov/pmc/blobs/de82/2824534/91b9156c8d20/nihms163978f1.jpg)](https://www.ncbi.nlm.nih.gov/core/lw/2.0/html/tileshop_pmc/tileshop_pmc_inline.html?title=Click%20on%20image%20to%20zoom&p=PMC3&id=2824534_nihms163978f1.jpg)\n",
      "\n",
      "[Open in a new tab](figure/F1/)\n",
      "\n",
      "The 3D-woven PCL scaffold. (A) schematic; (B–C) scanning electron micrographs of (B) loosely and (C) tightly woven scaffolds. Scale bars: 1 mm.\n",
      "\n",
      "### Human mesenchymal stem cells\n",
      "\n",
      "The hMSCs were derived from bone marrow aspirates obtained from a healthy middle-aged adult male at the Hematopoietic Stem Cell Core Facility at Case Western Reserve University. Informed consent was obtained, and an Institutional Review Board-approved aspiration procedure was used[[42](#R42)]. Briefly, the bone marrow sample was washed with Dulbecco’s modified Eagle’s medium (DMEM-LG, Gibco) supplemented with 10% fetal bovine serum (FBS) from a selected lot[[9](#R9)]. The sample was centrifuged at 460×*g* on a pre-formed Percoll density gradient (1.073 g/mL) to isolate the mononucleated cells. These cells were resuspended in serum-supplemented medium and seeded at a density of 1.8×105 cells/cm2 in 10 cm diameter plates. Non-adherent cells were removed after four days by changing the medium. For the remainder of the cell expansion phase, the medium was additionally supplemented with 10 ng/mL of recombinant human fibroblast growth factor-basic (rhFGF-2, Peprotech, Rocky Hill, NJ)[[43](#R43)], and was replaced twice per week. The primary culture was trypsinized after approximately two weeks, and then cryopreserved using Gibco Freezing medium.\n",
      "\n",
      "### Tissue engineered constructs\n"
     ]
    }
   ],
   "source": [
    "print(texts[0])"
   ]
  },
  {
   "cell_type": "code",
   "execution_count": null,
   "id": "7ec962bd",
   "metadata": {},
   "outputs": [],
   "source": []
  }
 ],
 "metadata": {
  "kernelspec": {
   "display_name": "nasa_env (3.12.3)",
   "language": "python",
   "name": "python3"
  },
  "language_info": {
   "codemirror_mode": {
    "name": "ipython",
    "version": 3
   },
   "file_extension": ".py",
   "mimetype": "text/x-python",
   "name": "python",
   "nbconvert_exporter": "python",
   "pygments_lexer": "ipython3",
   "version": "3.12.3"
  }
 },
 "nbformat": 4,
 "nbformat_minor": 5
}
